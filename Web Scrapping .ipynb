{
 "cells": [
  {
   "cell_type": "markdown",
   "metadata": {},
   "source": [
    "# Top Repositories for GitHub Trending\n",
    "\n"
   ]
  },
  {
   "cell_type": "markdown",
   "metadata": {},
   "source": [
    "### Pick a website and describe your objective\n",
    "\n",
    "- Browse through different sites and pick on to scrape. Check the \"Project Ideas\" section for inspiration.\n",
    "- Identify the information you'd like to scrape from the site. Decide the format of the output CSV file.\n",
    "- Summarize your project idea and outline your strategy in a Juptyer notebook. Use the \"New\" button above."
   ]
  },
  {
   "cell_type": "markdown",
   "metadata": {},
   "source": [
    "#### Project Outline\n",
    "\n",
    "- We're going to scrape https://github.com/trending\n",
    "- We'll get a list of Repositories. For each repositories, we'll get repo title, repo page URL,repo stars and repo description\n",
    "\n",
    "```\n",
    "Repo_Title,Description,Repo URL,stars\n",
    "TheAlgorithms /\\n\\n Python\tAll Algorithms implemented in Python\thttps://github.com/TheAlgorithms/Python\t718\n",
    "```"
   ]
  },
  {
   "cell_type": "code",
   "execution_count": 1,
   "metadata": {},
   "outputs": [],
   "source": [
    "import requests"
   ]
  },
  {
   "cell_type": "code",
   "execution_count": 163,
   "metadata": {},
   "outputs": [],
   "source": [
    "topics_url = 'https://github.com/trending'"
   ]
  },
  {
   "cell_type": "code",
   "execution_count": 164,
   "metadata": {},
   "outputs": [],
   "source": [
    "response = requests.get(topics_url)"
   ]
  },
  {
   "cell_type": "code",
   "execution_count": 165,
   "metadata": {},
   "outputs": [
    {
     "data": {
      "text/plain": [
       "200"
      ]
     },
     "execution_count": 165,
     "metadata": {},
     "output_type": "execute_result"
    }
   ],
   "source": [
    "response.status_code"
   ]
  },
  {
   "cell_type": "code",
   "execution_count": 5,
   "metadata": {},
   "outputs": [
    {
     "data": {
      "text/plain": [
       "744249"
      ]
     },
     "execution_count": 5,
     "metadata": {},
     "output_type": "execute_result"
    }
   ],
   "source": [
    "len(response.text)"
   ]
  },
  {
   "cell_type": "code",
   "execution_count": 6,
   "metadata": {},
   "outputs": [],
   "source": [
    "page_contents = response.text"
   ]
  },
  {
   "cell_type": "code",
   "execution_count": 7,
   "metadata": {},
   "outputs": [
    {
     "data": {
      "text/plain": [
       "'\\n\\n<!DOCTYPE html>\\n<html lang=\"en\" >\\n  <head>\\n    <meta charset=\"utf-8\">\\n  <link rel=\"dns-prefetch\" href=\"https://github.githubassets.com\">\\n  <link rel=\"dns-prefetch\" href=\"https://avatars.githubusercontent.com\">\\n  <link rel=\"dns-prefetch\" href=\"https://github-cloud.s3.amazonaws.com\">\\n  <link rel=\"dns-prefetch\" href=\"https://user-images.githubusercontent.com/\">\\n\\n\\n\\n  <link crossorigin=\"anonymous\" media=\"all\" integrity=\"sha512-7KjiGvJiLLy6LJPGf3m67ejAdgQsgDdnxZYoaI6+Agd0ZxHKTCjoKZgaf3PgUjURCcVceAwySJJJWgitRskDiA==\" rel=\"stylesheet\" href=\"https://github.githubassets.com/assets/frameworks-eca8e21af2622cbcba2c93c67f79baed.css\" />\\n    <link crossorigin=\"anonymous\" media=\"all\" integrity=\"sha512-23JETMMdsn3m0o1zq4H/YhL5MziBdsHR66A2XLOaEDoGVeBjtxoFn/KTtur0keMyFua6VxYldIWMQ6bA8x7PoA==\" rel=\"stylesheet\" href=\"https://github.githubassets.com/assets/behaviors-db72444cc31db27de6d28d73ab81ff62.css\" />\\n    \\n    \\n    \\n    <link crossorigin=\"anonymous\" media=\"all\" integrity=\"sha512-RzgqLoeS1c1AYAWGmmE3oa'"
      ]
     },
     "execution_count": 7,
     "metadata": {},
     "output_type": "execute_result"
    }
   ],
   "source": [
    "page_contents[:1000]"
   ]
  },
  {
   "cell_type": "code",
   "execution_count": 8,
   "metadata": {},
   "outputs": [],
   "source": [
    "with open('webpagetrending.html', 'w',encoding=\"utf-8\") as f:\n",
    "    f.write(page_contents)"
   ]
  },
  {
   "cell_type": "code",
   "execution_count": 9,
   "metadata": {},
   "outputs": [],
   "source": [
    "from bs4 import BeautifulSoup"
   ]
  },
  {
   "cell_type": "code",
   "execution_count": 10,
   "metadata": {},
   "outputs": [],
   "source": [
    "doc = BeautifulSoup(page_contents, 'html.parser')"
   ]
  },
  {
   "cell_type": "markdown",
   "metadata": {},
   "source": [
    "# For Repo Title"
   ]
  },
  {
   "cell_type": "code",
   "execution_count": 14,
   "metadata": {},
   "outputs": [],
   "source": [
    "selection_class = \"h3 lh-condensed\"\n",
    "   \n",
    "\n",
    "topic_title_tags = doc.find_all('h1', {'class': selection_class})"
   ]
  },
  {
   "cell_type": "code",
   "execution_count": 15,
   "metadata": {},
   "outputs": [
    {
     "data": {
      "text/plain": [
       "25"
      ]
     },
     "execution_count": 15,
     "metadata": {},
     "output_type": "execute_result"
    }
   ],
   "source": [
    "len(topic_title_tags)"
   ]
  },
  {
   "cell_type": "code",
   "execution_count": 111,
   "metadata": {},
   "outputs": [
    {
     "data": {
      "text/plain": [
       "<h1 class=\"h3 lh-condensed\">\n",
       "<a data-hydro-click='{\"event_type\":\"explore.click\",\"payload\":{\"click_context\":\"TRENDING_REPOSITORIES_PAGE\",\"click_target\":\"REPOSITORY\",\"click_visual_representation\":\"REPOSITORY_NAME_HEADING\",\"actor_id\":null,\"record_id\":63476337,\"originating_url\":\"https://github.com/trending\",\"user_id\":null}}' data-hydro-click-hmac=\"c2165dcf85c55fb0c2276d20925f89637775268ae3aab13ef2b86d658fd5dbfc\" href=\"/TheAlgorithms/Python\">\n",
       "<svg aria-hidden=\"true\" class=\"octicon octicon-repo mr-1 color-text-secondary\" height=\"16\" version=\"1.1\" viewbox=\"0 0 16 16\" width=\"16\"><path d=\"M2 2.5A2.5 2.5 0 014.5 0h8.75a.75.75 0 01.75.75v12.5a.75.75 0 01-.75.75h-2.5a.75.75 0 110-1.5h1.75v-2h-8a1 1 0 00-.714 1.7.75.75 0 01-1.072 1.05A2.495 2.495 0 012 11.5v-9zm10.5-1V9h-8c-.356 0-.694.074-1 .208V2.5a1 1 0 011-1h8zM5 12.25v3.25a.25.25 0 00.4.2l1.45-1.087a.25.25 0 01.3 0L8.6 15.7a.25.25 0 00.4-.2v-3.25a.25.25 0 00-.25-.25h-3.5a.25.25 0 00-.25.25z\" fill-rule=\"evenodd\"></path></svg>\n",
       "<span class=\"text-normal\">\n",
       "        TheAlgorithms /\n",
       "</span>\n",
       "      Python\n",
       "</a> </h1>"
      ]
     },
     "execution_count": 111,
     "metadata": {},
     "output_type": "execute_result"
    }
   ],
   "source": [
    "topic_title_tags[0]"
   ]
  },
  {
   "cell_type": "code",
   "execution_count": 107,
   "metadata": {},
   "outputs": [],
   "source": [
    "a_tag= topic_title_tags[0].find_all('a')"
   ]
  },
  {
   "cell_type": "code",
   "execution_count": 118,
   "metadata": {},
   "outputs": [
    {
     "data": {
      "text/plain": [
       "'TheAlgorithms /\\n\\n      Python'"
      ]
     },
     "execution_count": 118,
     "metadata": {},
     "output_type": "execute_result"
    }
   ],
   "source": [
    "a_tag[0].text.strip()"
   ]
  },
  {
   "cell_type": "code",
   "execution_count": 123,
   "metadata": {},
   "outputs": [
    {
     "name": "stdout",
     "output_type": "stream",
     "text": [
      "['TheAlgorithms /\\n\\n      Python', 'goldbergyoni /\\n\\n      nodebestpractices', 'trekhleb /\\n\\n      javascript-algorithms', 'chrisleekr /\\n\\n      binance-trading-bot', 'jackfrued /\\n\\n      Python-100-Days', 'kamranahmedse /\\n\\n      developer-roadmap', 'EbookFoundation /\\n\\n      free-programming-books', 'tuvtran /\\n\\n      project-based-learning', 'bradtraversy /\\n\\n      design-resources-for-developers', 'lettier /\\n\\n      3d-game-shaders-for-beginners', 'juliourena /\\n\\n      SharpNoPSExec', 'ryanmcdermott /\\n\\n      clean-code-javascript', 'danistefanovic /\\n\\n      build-your-own-x', 'aladinyo /\\n\\n      WhatsappyApp', 'photoprism /\\n\\n      photoprism', 'ossu /\\n\\n      computer-science', 'laurent22 /\\n\\n      joplin', 'psf /\\n\\n      black', 'bmorelli25 /\\n\\n      Become-A-Full-Stack-Web-Developer', 'you-dont-need /\\n\\n      You-Dont-Need-JavaScript', 'pointfreeco /\\n\\n      swift-composable-architecture', 'microsoft /\\n\\n      wslg', 'getify /\\n\\n      You-Dont-Know-JS', 'donnemartin /\\n\\n      system-design-primer', 'ml-tooling /\\n\\n      opyrator']\n"
     ]
    }
   ],
   "source": [
    "topic_titles = []\n",
    "\n",
    "for tag in topic_title_tags:\n",
    "    topic_titles.append(tag.text.strip())\n",
    "    \n",
    "print(topic_titles)"
   ]
  },
  {
   "cell_type": "markdown",
   "metadata": {},
   "source": [
    "# For Description"
   ]
  },
  {
   "cell_type": "code",
   "execution_count": 124,
   "metadata": {},
   "outputs": [],
   "source": [
    "desc_selector = 'col-9 color-text-secondary my-1 pr-4'\n",
    "    \n",
    "topic_desc_tags = doc.find_all('p', {'class': desc_selector})"
   ]
  },
  {
   "cell_type": "code",
   "execution_count": 127,
   "metadata": {},
   "outputs": [
    {
     "data": {
      "text/plain": [
       "'All Algorithms implemented in Python'"
      ]
     },
     "execution_count": 127,
     "metadata": {},
     "output_type": "execute_result"
    }
   ],
   "source": [
    "topic_desc_tags[0].text.strip()"
   ]
  },
  {
   "cell_type": "code",
   "execution_count": 129,
   "metadata": {},
   "outputs": [
    {
     "data": {
      "text/plain": [
       "['All Algorithms implemented in Python',\n",
       " '✅ The Node.js best practices list (April 2021)',\n",
       " '📝 Algorithms and data structures implemented in JavaScript with explanations and links to further readings',\n",
       " 'Automated Binance trading bot - Buy low/Sell high with stop loss limit/Trade multiple cryptocurrencies',\n",
       " 'Python - 100天从新手到大师',\n",
       " 'Roadmap to becoming a web developer in 2021',\n",
       " '📚 Freely available programming books',\n",
       " 'Curated list of project-based tutorials',\n",
       " 'Curated list of design and UI resources from stock photos, web templates, CSS frameworks, UI libraries, tools and much more',\n",
       " '🎮 A step-by-step guide to implementing SSAO, depth of field, lighting, normal mapping, and more for your 3D game.']"
      ]
     },
     "execution_count": 129,
     "metadata": {},
     "output_type": "execute_result"
    }
   ],
   "source": [
    "topic_descs = []\n",
    "\n",
    "for tag in topic_desc_tags:\n",
    "    topic_descs.append(tag.text.strip())\n",
    "    \n",
    "topic_descs[:10]"
   ]
  },
  {
   "cell_type": "markdown",
   "metadata": {},
   "source": [
    "# Repo_url"
   ]
  },
  {
   "cell_type": "code",
   "execution_count": 47,
   "metadata": {},
   "outputs": [
    {
     "name": "stdout",
     "output_type": "stream",
     "text": [
      "https://github.com/TheAlgorithms/Python\n"
     ]
    }
   ],
   "source": [
    "base_url = 'https://github.com'\n",
    "repo_url = base_url + a_tags[0]['href']\n",
    "print(repo_url)"
   ]
  },
  {
   "cell_type": "code",
   "execution_count": 141,
   "metadata": {},
   "outputs": [],
   "source": [
    "selection_class = \"h3 lh-condensed\"\n",
    "   \n",
    "\n",
    "topic_link = doc.find_all('h1', {'class': selection_class})"
   ]
  },
  {
   "cell_type": "code",
   "execution_count": 143,
   "metadata": {},
   "outputs": [],
   "source": [
    "a_tag= topic_link[0].find_all('a')"
   ]
  },
  {
   "cell_type": "code",
   "execution_count": 151,
   "metadata": {},
   "outputs": [
    {
     "name": "stdout",
     "output_type": "stream",
     "text": [
      "['https://github.com/TheAlgorithms/Python', 'https://github.com/goldbergyoni/nodebestpractices', 'https://github.com/trekhleb/javascript-algorithms', 'https://github.com/chrisleekr/binance-trading-bot', 'https://github.com/jackfrued/Python-100-Days', 'https://github.com/kamranahmedse/developer-roadmap', 'https://github.com/EbookFoundation/free-programming-books', 'https://github.com/tuvtran/project-based-learning', 'https://github.com/bradtraversy/design-resources-for-developers', 'https://github.com/lettier/3d-game-shaders-for-beginners', 'https://github.com/juliourena/SharpNoPSExec', 'https://github.com/ryanmcdermott/clean-code-javascript', 'https://github.com/danistefanovic/build-your-own-x', 'https://github.com/aladinyo/WhatsappyApp', 'https://github.com/photoprism/photoprism', 'https://github.com/ossu/computer-science', 'https://github.com/laurent22/joplin', 'https://github.com/psf/black', 'https://github.com/bmorelli25/Become-A-Full-Stack-Web-Developer', 'https://github.com/you-dont-need/You-Dont-Need-JavaScript', 'https://github.com/pointfreeco/swift-composable-architecture', 'https://github.com/microsoft/wslg', 'https://github.com/getify/You-Dont-Know-JS', 'https://github.com/donnemartin/system-design-primer', 'https://github.com/ml-tooling/opyrator']\n"
     ]
    }
   ],
   "source": [
    "#for tag in topic_link:\n",
    "cities_links = [base_url + tag.find('a').get('href','') if tag.find('a') else '' for tag in topic_link]\n",
    "print (cities_links)\n",
    "    \n",
    "    "
   ]
  },
  {
   "cell_type": "markdown",
   "metadata": {},
   "source": [
    "# Star_tags"
   ]
  },
  {
   "cell_type": "code",
   "execution_count": 50,
   "metadata": {},
   "outputs": [],
   "source": [
    "star_tags = doc.find_all('span', { 'class': 'd-inline-block float-sm-right'})\n",
    "      "
   ]
  },
  {
   "cell_type": "code",
   "execution_count": 51,
   "metadata": {},
   "outputs": [
    {
     "data": {
      "text/plain": [
       "25"
      ]
     },
     "execution_count": 51,
     "metadata": {},
     "output_type": "execute_result"
    }
   ],
   "source": [
    "len(star_tags)"
   ]
  },
  {
   "cell_type": "code",
   "execution_count": 95,
   "metadata": {},
   "outputs": [
    {
     "data": {
      "text/plain": [
       "'261 stars today'"
      ]
     },
     "execution_count": 95,
     "metadata": {},
     "output_type": "execute_result"
    }
   ],
   "source": [
    "star_tags[1].text.strip()"
   ]
  },
  {
   "cell_type": "code",
   "execution_count": 93,
   "metadata": {},
   "outputs": [],
   "source": [
    "stars_str = star_tags[1].text.strip()"
   ]
  },
  {
   "cell_type": "code",
   "execution_count": 94,
   "metadata": {},
   "outputs": [
    {
     "data": {
      "text/plain": [
       "'stars today'"
      ]
     },
     "execution_count": 94,
     "metadata": {},
     "output_type": "execute_result"
    }
   ],
   "source": [
    "stars_str[4:]"
   ]
  },
  {
   "cell_type": "code",
   "execution_count": 174,
   "metadata": {},
   "outputs": [],
   "source": [
    "def parse_star_count(stars_str):\n",
    "    stars_str = stars_str.strip()\n",
    "    if stars_str[4:] == 'stars today':\n",
    "        return (stars_str[:-12])\n",
    "    return (stars_str)"
   ]
  },
  {
   "cell_type": "code",
   "execution_count": 184,
   "metadata": {},
   "outputs": [
    {
     "data": {
      "text/plain": [
       "'45 stars today'"
      ]
     },
     "execution_count": 184,
     "metadata": {},
     "output_type": "execute_result"
    }
   ],
   "source": [
    "parse_star_count(star_tags[20].text.strip())"
   ]
  },
  {
   "cell_type": "code",
   "execution_count": 176,
   "metadata": {},
   "outputs": [
    {
     "data": {
      "text/plain": [
       "['718', '261', '322', '205', '204', '536', '514', '251', '328', '263']"
      ]
     },
     "execution_count": 176,
     "metadata": {},
     "output_type": "execute_result"
    }
   ],
   "source": [
    "stars = []\n",
    "for tag in star_tags:\n",
    "    \n",
    "    tag_int=parse_star_count(tag.text.strip())\n",
    "    stars.append(tag_int)\n",
    "    \n",
    "stars[:10]"
   ]
  },
  {
   "cell_type": "code",
   "execution_count": 177,
   "metadata": {},
   "outputs": [],
   "source": [
    "import pandas as pd"
   ]
  },
  {
   "cell_type": "code",
   "execution_count": 181,
   "metadata": {},
   "outputs": [],
   "source": [
    "topics_dict = {\n",
    "    'Repo_Title': topic_titles,\n",
    "    'Description': topic_descs,\n",
    "    'Url': cities_links,\n",
    "    'Star':stars\n",
    "}"
   ]
  },
  {
   "cell_type": "code",
   "execution_count": 182,
   "metadata": {},
   "outputs": [],
   "source": [
    "trending_df = pd.DataFrame(topics_dict)"
   ]
  },
  {
   "cell_type": "code",
   "execution_count": 183,
   "metadata": {},
   "outputs": [
    {
     "data": {
      "text/html": [
       "<div>\n",
       "<style scoped>\n",
       "    .dataframe tbody tr th:only-of-type {\n",
       "        vertical-align: middle;\n",
       "    }\n",
       "\n",
       "    .dataframe tbody tr th {\n",
       "        vertical-align: top;\n",
       "    }\n",
       "\n",
       "    .dataframe thead th {\n",
       "        text-align: right;\n",
       "    }\n",
       "</style>\n",
       "<table border=\"1\" class=\"dataframe\">\n",
       "  <thead>\n",
       "    <tr style=\"text-align: right;\">\n",
       "      <th></th>\n",
       "      <th>Repo_Title</th>\n",
       "      <th>Description</th>\n",
       "      <th>Url</th>\n",
       "      <th>Star</th>\n",
       "    </tr>\n",
       "  </thead>\n",
       "  <tbody>\n",
       "    <tr>\n",
       "      <th>0</th>\n",
       "      <td>TheAlgorithms /\\n\\n      Python</td>\n",
       "      <td>All Algorithms implemented in Python</td>\n",
       "      <td>https://github.com/TheAlgorithms/Python</td>\n",
       "      <td>718</td>\n",
       "    </tr>\n",
       "    <tr>\n",
       "      <th>1</th>\n",
       "      <td>goldbergyoni /\\n\\n      nodebestpractices</td>\n",
       "      <td>✅ The Node.js best practices list (April 2021)</td>\n",
       "      <td>https://github.com/goldbergyoni/nodebestpractices</td>\n",
       "      <td>261</td>\n",
       "    </tr>\n",
       "    <tr>\n",
       "      <th>2</th>\n",
       "      <td>trekhleb /\\n\\n      javascript-algorithms</td>\n",
       "      <td>📝 Algorithms and data structures implemented i...</td>\n",
       "      <td>https://github.com/trekhleb/javascript-algorithms</td>\n",
       "      <td>322</td>\n",
       "    </tr>\n",
       "    <tr>\n",
       "      <th>3</th>\n",
       "      <td>chrisleekr /\\n\\n      binance-trading-bot</td>\n",
       "      <td>Automated Binance trading bot - Buy low/Sell h...</td>\n",
       "      <td>https://github.com/chrisleekr/binance-trading-bot</td>\n",
       "      <td>205</td>\n",
       "    </tr>\n",
       "    <tr>\n",
       "      <th>4</th>\n",
       "      <td>jackfrued /\\n\\n      Python-100-Days</td>\n",
       "      <td>Python - 100天从新手到大师</td>\n",
       "      <td>https://github.com/jackfrued/Python-100-Days</td>\n",
       "      <td>204</td>\n",
       "    </tr>\n",
       "    <tr>\n",
       "      <th>5</th>\n",
       "      <td>kamranahmedse /\\n\\n      developer-roadmap</td>\n",
       "      <td>Roadmap to becoming a web developer in 2021</td>\n",
       "      <td>https://github.com/kamranahmedse/developer-roa...</td>\n",
       "      <td>536</td>\n",
       "    </tr>\n",
       "    <tr>\n",
       "      <th>6</th>\n",
       "      <td>EbookFoundation /\\n\\n      free-programming-books</td>\n",
       "      <td>📚 Freely available programming books</td>\n",
       "      <td>https://github.com/EbookFoundation/free-progra...</td>\n",
       "      <td>514</td>\n",
       "    </tr>\n",
       "    <tr>\n",
       "      <th>7</th>\n",
       "      <td>tuvtran /\\n\\n      project-based-learning</td>\n",
       "      <td>Curated list of project-based tutorials</td>\n",
       "      <td>https://github.com/tuvtran/project-based-learning</td>\n",
       "      <td>251</td>\n",
       "    </tr>\n",
       "    <tr>\n",
       "      <th>8</th>\n",
       "      <td>bradtraversy /\\n\\n      design-resources-for-d...</td>\n",
       "      <td>Curated list of design and UI resources from s...</td>\n",
       "      <td>https://github.com/bradtraversy/design-resourc...</td>\n",
       "      <td>328</td>\n",
       "    </tr>\n",
       "    <tr>\n",
       "      <th>9</th>\n",
       "      <td>lettier /\\n\\n      3d-game-shaders-for-beginners</td>\n",
       "      <td>🎮 A step-by-step guide to implementing SSAO, d...</td>\n",
       "      <td>https://github.com/lettier/3d-game-shaders-for...</td>\n",
       "      <td>263</td>\n",
       "    </tr>\n",
       "    <tr>\n",
       "      <th>10</th>\n",
       "      <td>juliourena /\\n\\n      SharpNoPSExec</td>\n",
       "      <td>Get file less command execution for lateral mo...</td>\n",
       "      <td>https://github.com/juliourena/SharpNoPSExec</td>\n",
       "      <td>71 stars today</td>\n",
       "    </tr>\n",
       "    <tr>\n",
       "      <th>11</th>\n",
       "      <td>ryanmcdermott /\\n\\n      clean-code-javascript</td>\n",
       "      <td>🛁 Clean Code concepts adapted for JavaScript</td>\n",
       "      <td>https://github.com/ryanmcdermott/clean-code-ja...</td>\n",
       "      <td>195</td>\n",
       "    </tr>\n",
       "    <tr>\n",
       "      <th>12</th>\n",
       "      <td>danistefanovic /\\n\\n      build-your-own-x</td>\n",
       "      <td>🤓 Build your own (insert technology here)</td>\n",
       "      <td>https://github.com/danistefanovic/build-your-o...</td>\n",
       "      <td>527</td>\n",
       "    </tr>\n",
       "    <tr>\n",
       "      <th>13</th>\n",
       "      <td>aladinyo /\\n\\n      WhatsappyApp</td>\n",
       "      <td>A whatsapp clone progressive web application b...</td>\n",
       "      <td>https://github.com/aladinyo/WhatsappyApp</td>\n",
       "      <td>57 stars today</td>\n",
       "    </tr>\n",
       "    <tr>\n",
       "      <th>14</th>\n",
       "      <td>photoprism /\\n\\n      photoprism</td>\n",
       "      <td>Personal Photo Management powered by Go and Go...</td>\n",
       "      <td>https://github.com/photoprism/photoprism</td>\n",
       "      <td>278</td>\n",
       "    </tr>\n",
       "    <tr>\n",
       "      <th>15</th>\n",
       "      <td>ossu /\\n\\n      computer-science</td>\n",
       "      <td>🎓 Path to a free self-taught education in Comp...</td>\n",
       "      <td>https://github.com/ossu/computer-science</td>\n",
       "      <td>285</td>\n",
       "    </tr>\n",
       "    <tr>\n",
       "      <th>16</th>\n",
       "      <td>laurent22 /\\n\\n      joplin</td>\n",
       "      <td>Joplin - an open source note taking and to-do ...</td>\n",
       "      <td>https://github.com/laurent22/joplin</td>\n",
       "      <td>155</td>\n",
       "    </tr>\n",
       "    <tr>\n",
       "      <th>17</th>\n",
       "      <td>psf /\\n\\n      black</td>\n",
       "      <td>The uncompromising Python code formatter</td>\n",
       "      <td>https://github.com/psf/black</td>\n",
       "      <td>190</td>\n",
       "    </tr>\n",
       "    <tr>\n",
       "      <th>18</th>\n",
       "      <td>bmorelli25 /\\n\\n      Become-A-Full-Stack-Web-...</td>\n",
       "      <td>Free resources for learning Full Stack Web Dev...</td>\n",
       "      <td>https://github.com/bmorelli25/Become-A-Full-St...</td>\n",
       "      <td>75 stars today</td>\n",
       "    </tr>\n",
       "    <tr>\n",
       "      <th>19</th>\n",
       "      <td>you-dont-need /\\n\\n      You-Dont-Need-JavaScript</td>\n",
       "      <td>CSS is powerful, you can do a lot of things wi...</td>\n",
       "      <td>https://github.com/you-dont-need/You-Dont-Need...</td>\n",
       "      <td>236</td>\n",
       "    </tr>\n",
       "    <tr>\n",
       "      <th>20</th>\n",
       "      <td>pointfreeco /\\n\\n      swift-composable-archit...</td>\n",
       "      <td>A library for building applications in a consi...</td>\n",
       "      <td>https://github.com/pointfreeco/swift-composabl...</td>\n",
       "      <td>45 stars today</td>\n",
       "    </tr>\n",
       "    <tr>\n",
       "      <th>21</th>\n",
       "      <td>microsoft /\\n\\n      wslg</td>\n",
       "      <td>Enabling the Windows Subsystem for Linux to in...</td>\n",
       "      <td>https://github.com/microsoft/wslg</td>\n",
       "      <td>291</td>\n",
       "    </tr>\n",
       "    <tr>\n",
       "      <th>22</th>\n",
       "      <td>getify /\\n\\n      You-Dont-Know-JS</td>\n",
       "      <td>A book series on JavaScript. @YDKJS on twitter.</td>\n",
       "      <td>https://github.com/getify/You-Dont-Know-JS</td>\n",
       "      <td>183</td>\n",
       "    </tr>\n",
       "    <tr>\n",
       "      <th>23</th>\n",
       "      <td>donnemartin /\\n\\n      system-design-primer</td>\n",
       "      <td>Learn how to design large-scale systems. Prep ...</td>\n",
       "      <td>https://github.com/donnemartin/system-design-p...</td>\n",
       "      <td>242</td>\n",
       "    </tr>\n",
       "    <tr>\n",
       "      <th>24</th>\n",
       "      <td>ml-tooling /\\n\\n      opyrator</td>\n",
       "      <td>🪄 Turns your machine learning code into micros...</td>\n",
       "      <td>https://github.com/ml-tooling/opyrator</td>\n",
       "      <td>261</td>\n",
       "    </tr>\n",
       "  </tbody>\n",
       "</table>\n",
       "</div>"
      ],
      "text/plain": [
       "                                           Repo_Title  \\\n",
       "0                     TheAlgorithms /\\n\\n      Python   \n",
       "1           goldbergyoni /\\n\\n      nodebestpractices   \n",
       "2           trekhleb /\\n\\n      javascript-algorithms   \n",
       "3           chrisleekr /\\n\\n      binance-trading-bot   \n",
       "4                jackfrued /\\n\\n      Python-100-Days   \n",
       "5          kamranahmedse /\\n\\n      developer-roadmap   \n",
       "6   EbookFoundation /\\n\\n      free-programming-books   \n",
       "7           tuvtran /\\n\\n      project-based-learning   \n",
       "8   bradtraversy /\\n\\n      design-resources-for-d...   \n",
       "9    lettier /\\n\\n      3d-game-shaders-for-beginners   \n",
       "10                juliourena /\\n\\n      SharpNoPSExec   \n",
       "11     ryanmcdermott /\\n\\n      clean-code-javascript   \n",
       "12         danistefanovic /\\n\\n      build-your-own-x   \n",
       "13                   aladinyo /\\n\\n      WhatsappyApp   \n",
       "14                   photoprism /\\n\\n      photoprism   \n",
       "15                   ossu /\\n\\n      computer-science   \n",
       "16                        laurent22 /\\n\\n      joplin   \n",
       "17                               psf /\\n\\n      black   \n",
       "18  bmorelli25 /\\n\\n      Become-A-Full-Stack-Web-...   \n",
       "19  you-dont-need /\\n\\n      You-Dont-Need-JavaScript   \n",
       "20  pointfreeco /\\n\\n      swift-composable-archit...   \n",
       "21                          microsoft /\\n\\n      wslg   \n",
       "22                 getify /\\n\\n      You-Dont-Know-JS   \n",
       "23        donnemartin /\\n\\n      system-design-primer   \n",
       "24                     ml-tooling /\\n\\n      opyrator   \n",
       "\n",
       "                                          Description  \\\n",
       "0                All Algorithms implemented in Python   \n",
       "1      ✅ The Node.js best practices list (April 2021)   \n",
       "2   📝 Algorithms and data structures implemented i...   \n",
       "3   Automated Binance trading bot - Buy low/Sell h...   \n",
       "4                                 Python - 100天从新手到大师   \n",
       "5         Roadmap to becoming a web developer in 2021   \n",
       "6                📚 Freely available programming books   \n",
       "7             Curated list of project-based tutorials   \n",
       "8   Curated list of design and UI resources from s...   \n",
       "9   🎮 A step-by-step guide to implementing SSAO, d...   \n",
       "10  Get file less command execution for lateral mo...   \n",
       "11       🛁 Clean Code concepts adapted for JavaScript   \n",
       "12          🤓 Build your own (insert technology here)   \n",
       "13  A whatsapp clone progressive web application b...   \n",
       "14  Personal Photo Management powered by Go and Go...   \n",
       "15  🎓 Path to a free self-taught education in Comp...   \n",
       "16  Joplin - an open source note taking and to-do ...   \n",
       "17           The uncompromising Python code formatter   \n",
       "18  Free resources for learning Full Stack Web Dev...   \n",
       "19  CSS is powerful, you can do a lot of things wi...   \n",
       "20  A library for building applications in a consi...   \n",
       "21  Enabling the Windows Subsystem for Linux to in...   \n",
       "22    A book series on JavaScript. @YDKJS on twitter.   \n",
       "23  Learn how to design large-scale systems. Prep ...   \n",
       "24  🪄 Turns your machine learning code into micros...   \n",
       "\n",
       "                                                  Url            Star  \n",
       "0             https://github.com/TheAlgorithms/Python             718  \n",
       "1   https://github.com/goldbergyoni/nodebestpractices             261  \n",
       "2   https://github.com/trekhleb/javascript-algorithms             322  \n",
       "3   https://github.com/chrisleekr/binance-trading-bot             205  \n",
       "4        https://github.com/jackfrued/Python-100-Days             204  \n",
       "5   https://github.com/kamranahmedse/developer-roa...             536  \n",
       "6   https://github.com/EbookFoundation/free-progra...             514  \n",
       "7   https://github.com/tuvtran/project-based-learning             251  \n",
       "8   https://github.com/bradtraversy/design-resourc...             328  \n",
       "9   https://github.com/lettier/3d-game-shaders-for...             263  \n",
       "10        https://github.com/juliourena/SharpNoPSExec  71 stars today  \n",
       "11  https://github.com/ryanmcdermott/clean-code-ja...             195  \n",
       "12  https://github.com/danistefanovic/build-your-o...             527  \n",
       "13           https://github.com/aladinyo/WhatsappyApp  57 stars today  \n",
       "14           https://github.com/photoprism/photoprism             278  \n",
       "15           https://github.com/ossu/computer-science             285  \n",
       "16                https://github.com/laurent22/joplin             155  \n",
       "17                       https://github.com/psf/black             190  \n",
       "18  https://github.com/bmorelli25/Become-A-Full-St...  75 stars today  \n",
       "19  https://github.com/you-dont-need/You-Dont-Need...             236  \n",
       "20  https://github.com/pointfreeco/swift-composabl...  45 stars today  \n",
       "21                  https://github.com/microsoft/wslg             291  \n",
       "22         https://github.com/getify/You-Dont-Know-JS             183  \n",
       "23  https://github.com/donnemartin/system-design-p...             242  \n",
       "24             https://github.com/ml-tooling/opyrator             261  "
      ]
     },
     "execution_count": 183,
     "metadata": {},
     "output_type": "execute_result"
    }
   ],
   "source": [
    "trending_df"
   ]
  },
  {
   "cell_type": "code",
   "execution_count": null,
   "metadata": {},
   "outputs": [],
   "source": []
  }
 ],
 "metadata": {
  "kernelspec": {
   "display_name": "Python 3",
   "language": "python",
   "name": "python3"
  },
  "language_info": {
   "codemirror_mode": {
    "name": "ipython",
    "version": 3
   },
   "file_extension": ".py",
   "mimetype": "text/x-python",
   "name": "python",
   "nbconvert_exporter": "python",
   "pygments_lexer": "ipython3",
   "version": "3.7.3"
  }
 },
 "nbformat": 4,
 "nbformat_minor": 4
}
